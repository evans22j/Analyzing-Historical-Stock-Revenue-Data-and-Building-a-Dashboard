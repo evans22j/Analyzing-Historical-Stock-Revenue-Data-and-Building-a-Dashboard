{
    "cells": [
        {
            "metadata": {},
            "id": "6e9df1a9-f4b4-4484-973a-e3acc0ff52d9",
            "cell_type": "markdown",
            "source": "\n<h2 id=\"data\">Extracting and Visualizing Stock Data</h2>\n\nDescription\n\nExtracting essential data from a dataset and displaying it is a necessary part of data science; therefore individuals can make correct decisions based on the data. In this assignment, you will extract some stock data, you will then display this data in a graph.\n\n"
        },
        {
            "metadata": {},
            "cell_type": "markdown",
            "source": "<h2 id=\"data\">You need the following libraries for this project</h2>"
        },
        {
            "metadata": {},
            "cell_type": "code",
            "source": "import pandas as pd\nimport yfinance as yf\nimport numpy as np\nimport requests\nfrom bs4 import BeautifulSoup\nimport matplotlib.pyplot as plt\n%matplotlib inline",
            "execution_count": null,
            "outputs": []
        },
        {
            "metadata": {},
            "id": "5fe99eb9-dec0-4d90-a991-ac48a0d4aff5",
            "cell_type": "markdown",
            "source": "<h2 id=\"data\">Question 1: Use yfinance to Extract Stock Data</h2>\n"
        },
        {
            "metadata": {},
            "cell_type": "code",
            "source": "tesla = yf.Ticker(\"TSLA\")",
            "execution_count": null,
            "outputs": []
        },
        {
            "metadata": {},
            "id": "1650b73e-5c4e-4d01-bfc7-c4ab3995f17c",
            "cell_type": "code",
            "source": "tesla_data = tesla.history(period=\"max\")",
            "execution_count": null,
            "outputs": []
        },
        {
            "metadata": {},
            "id": "c609ec81-d3e6-4495-9c65-f6f24f13440d",
            "cell_type": "code",
            "source": "tesla_data.reset_index(inplace=True)\ntesla_data.head()",
            "execution_count": null,
            "outputs": []
        },
        {
            "metadata": {},
            "id": "456b80bb-1b3f-4e40-a20f-0da5a5dd0cf6",
            "cell_type": "code",
            "source": "Date \tOpen \tHigh \tLow \tClose \tVolume \tDividends \tStock Splits\n\n0 \t2010-06-29 \t3.800 \t5.000 \t3.508 \t4.778 \t93831500 \t0 \t0.0\n1 \t2010-06-30 \t5.158 \t6.084 \t4.660 \t4.766 \t85935500 \t0 \t0.0\n2 \t2010-07-01 \t5.000 \t5.184 \t4.054 \t4.392 \t41094000 \t0 \t0.0\n3 \t2010-07-02 \t4.600 \t4.620 \t3.742 \t3.840 \t25699000 \t0 \t0.0\n4 \t2010-07-06 \t4.000 \t4.000 \t3.166 \t3.222 \t34334500 \t0 \t0.0",
            "execution_count": null,
            "outputs": []
        },
        {
            "metadata": {},
            "id": "f2582b1e-8785-4e41-8175-9d38ebf9b607",
            "cell_type": "markdown",
            "source": "<h2 id=\"data\">Question 2: Use Webscraping to Extract Tesla Revenue Data</h2>\n"
        },
        {
            "metadata": {},
            "id": "a18b8c9f-2d0c-4b4d-a7a7-ce96b1a83b0f",
            "cell_type": "markdown",
            "source": "\n\nUse the requests library to download the webpage url = \"https://www.macrotrends.net/stocks/charts/TSLA/tesla/revenue\". Save the text of the response as a variable named html_data.\n\n"
        },
        {
            "metadata": {},
            "id": "ba949599-7713-4fe7-8149-4daf931f53c3",
            "cell_type": "code",
            "source": "url= \"https://www.macrotrends.net/stocks/charts/TSLA/tesla/revenue\"\nhtml_data = requests.get(url).text",
            "execution_count": null,
            "outputs": []
        },
        {
            "metadata": {},
            "id": "9ef2fab7-e331-4b96-a97f-50bea2d81fdf",
            "cell_type": "code",
            "source": "soup = BeautifulSoup(html_data, \"html.parser\")\nsoup.find_all('title')",
            "execution_count": null,
            "outputs": []
        },
        {
            "metadata": {},
            "id": "b998c52b-0a65-43e8-8318-7f7b41db7b83",
            "cell_type": "code",
            "source": "[<title>Tesla Revenue 2010-2023 | TSLA | MacroTrends</title>]",
            "execution_count": null,
            "outputs": []
        },
        {
            "metadata": {},
            "id": "e336197f-c624-4527-a06f-2235932eb0ef",
            "cell_type": "code",
            "source": "tesla_revenue = pd.DataFrame(columns = ['Date', 'Revenue'])\n\nfor row in soup.find_all(\"tbody\")[1].find_all(\"tr\"):\n    col = row.find_all(\"td\")\n    date = col[0].text\n    revenue = col[1].text.replace(\"$\", \"\").replace(\",\", \"\")\n    \n    tesla_revenue = tesla_revenue.append({\"Date\": date, \"Revenue\": revenue}, ignore_index = True)",
            "execution_count": null,
            "outputs": []
        },
        {
            "metadata": {},
            "id": "85bd2c70-38c1-4077-9e40-4d91d1bd987b",
            "cell_type": "code",
            "source": "tesla_revenue.dropna(inplace=True)\ntesla_revenue = tesla_revenue[tesla_revenue['Revenue'] != \"\"]\n",
            "execution_count": null,
            "outputs": []
        },
        {
            "metadata": {},
            "id": "71e43b92-7363-4903-b934-61f5a12863de",
            "cell_type": "code",
            "source": "tesla_revenue.tail()\n\n",
            "execution_count": null,
            "outputs": []
        },
        {
            "metadata": {},
            "cell_type": "code",
            "source": " \tDate \tRevenue\n46 \t2010-09-30 \t31\n47 \t2010-06-30 \t28\n48 \t2010-03-31 \t21\n50 \t2009-09-30 \t46\n51 \t2009-06-30 \t27",
            "execution_count": null,
            "outputs": []
        },
        {
            "metadata": {},
            "cell_type": "markdown",
            "source": "<h2 id=\"data\"> Question 3: Use yfinance to Extract GME Stock Data</h2>"
        },
        {
            "metadata": {},
            "cell_type": "code",
            "source": "gamestop = yf.Ticker(\"GME\")",
            "execution_count": null,
            "outputs": []
        },
        {
            "metadata": {},
            "cell_type": "code",
            "source": "gamestop_data = gamestop.history(period=\"max\")",
            "execution_count": null,
            "outputs": []
        },
        {
            "metadata": {},
            "cell_type": "code",
            "source": "gamestop_data.reset_index(inplace=True)\ngamestop_data.head()",
            "execution_count": null,
            "outputs": []
        },
        {
            "metadata": {},
            "cell_type": "code",
            "source": " \tDate \tOpen \tHigh \tLow \tClose \tVolume \tDividends \tStock Splits\n0 \t2002-02-13 \t6.480514 \t6.773400 \t6.413183 \t6.766666 \t19054000 \t0.0 \t0.0\n1 \t2002-02-14 \t6.850829 \t6.864295 \t6.682504 \t6.733002 \t2755400 \t0.0 \t0.0\n2 \t2002-02-15 \t6.733001 \t6.749833 \t6.632006 \t6.699336 \t2097400 \t0.0 \t0.0\n3 \t2002-02-19 \t6.665671 \t6.665671 \t6.312189 \t6.430017 \t1852600 \t0.0 \t0.0\n4 \t2002-02-20 \t6.463681 \t6.648838 \t6.413183 \t6.648838 \t1723200 \t0.0 \t0.0",
            "execution_count": null,
            "outputs": []
        },
        {
            "metadata": {},
            "cell_type": "markdown",
            "source": "<h2 id=\"data\">Question 4: Use Webscraping to Extract GME Revenue Data</h2>"
        },
        {
            "metadata": {},
            "cell_type": "code",
            "source": "url1 = \"https://www.macrotrends.net/stocks/charts/GME/gamestop/revenue\"",
            "execution_count": 11,
            "outputs": []
        },
        {
            "metadata": {},
            "cell_type": "code",
            "source": "html_data = requests.get(url1).text",
            "execution_count": null,
            "outputs": []
        },
        {
            "metadata": {},
            "cell_type": "code",
            "source": "soup = BeautifulSoup(html_data, \"html.parser\")\nsoup.find_all('title')",
            "execution_count": null,
            "outputs": []
        },
        {
            "metadata": {},
            "cell_type": "markdown",
            "source": "[<title>GameStop Revenue 2010-2023 | GME | MacroTrends</title>]"
        },
        {
            "metadata": {},
            "cell_type": "code",
            "source": "gme_revenue = pd.DataFrame(columns=['Date', 'Revenue'])\n\nfor table in soup.find_all('table'):\n\n    if ('GameStop Quarterly Revenue' in table.find('th').text):\n        rows = table.find_all('tr')\n        \n        for row in rows:\n            col = row.find_all('td')\n            \n            if col != []:\n                date = col[0].text\n                revenue = col[1].text.replace(',','').replace('$','')\n\n                gme_revenue = gme_revenue.append({\"Date\":date, \"Revenue\":revenue}, ignore_index=True)",
            "execution_count": null,
            "outputs": []
        },
        {
            "metadata": {},
            "cell_type": "code",
            "source": "gme_revenue.tail()",
            "execution_count": null,
            "outputs": []
        },
        {
            "metadata": {},
            "cell_type": "code",
            "source": " \tDate \tRevenue\n49 \t2010-01-31 \t3524\n50 \t2009-10-31 \t1835\n51 \t2009-07-31 \t1739\n52 \t2009-04-30 \t1981\n53 \t2009-01-31 \t3492",
            "execution_count": null,
            "outputs": []
        },
        {
            "metadata": {},
            "cell_type": "markdown",
            "source": "<h2 id=\"data\">Question 5: Plot Tesla Stock Graph</h2>"
        },
        {
            "metadata": {},
            "cell_type": "code",
            "source": "import plotly.graph_objects as go\nfrom plotly.subplots import make_subplots",
            "execution_count": null,
            "outputs": []
        },
        {
            "metadata": {},
            "cell_type": "code",
            "source": "def make_graph(stock_data, revenue_data, stock):\n    fig = make_subplots(rows=2, cols=1, shared_xaxes=True, subplot_titles=(\"Historical Share Price\", \"Historical Revenue\"), vertical_spacing = .3)\n    fig.add_trace(go.Scatter(x=pd.to_datetime(stock_data.Date, infer_datetime_format=True), y=stock_data.Close.astype(\"float\"), name=\"Share Price\"), row=1, col=1)\n    fig.add_trace(go.Scatter(x=pd.to_datetime(revenue_data.Date, infer_datetime_format=True), y=revenue_data.Revenue.astype(\"float\"), name=\"Revenue\"), row=2, col=1)\n    fig.update_xaxes(title_text=\"Date\", row=1, col=1)\n    fig.update_xaxes(title_text=\"Date\", row=2, col=1)\n    fig.update_yaxes(title_text=\"Price ($US)\", row=1, col=1)\n    fig.update_yaxes(title_text=\"Revenue ($US Millions)\", row=2, col=1)\n    fig.update_layout(showlegend=False,\n    height=900,\n    title=stock,\n    xaxis_rangeslider_visible=True)\n    fig.show()",
            "execution_count": null,
            "outputs": []
        },
        {
            "metadata": {},
            "cell_type": "code",
            "source": "make_graph(tesla_data, tesla_revenue, 'Tesla')",
            "execution_count": null,
            "outputs": []
        },
        {
            "metadata": {},
            "cell_type": "markdown",
            "source": "<h2 id=\"data\">Question 6: Plot GameStop Stock Graph</h2>"
        },
        {
            "metadata": {},
            "cell_type": "code",
            "source": "make_graph(gamestop_data, gme_revenue, 'GameStop')",
            "execution_count": null,
            "outputs": []
        },
        {
            "metadata": {},
            "cell_type": "code",
            "source": "print(\"Completed\")",
            "execution_count": null,
            "outputs": []
        },
        {
            "metadata": {},
            "cell_type": "code",
            "source": "",
            "execution_count": null,
            "outputs": []
        }
    ],
    "metadata": {
        "kernelspec": {
            "name": "python3",
            "display_name": "Python 3.10",
            "language": "python"
        },
        "language_info": {
            "name": "python",
            "version": "3.10.9",
            "mimetype": "text/x-python",
            "codemirror_mode": {
                "name": "ipython",
                "version": 3
            },
            "pygments_lexer": "ipython3",
            "nbconvert_exporter": "python",
            "file_extension": ".py"
        }
    },
    "nbformat": 4,
    "nbformat_minor": 4
}